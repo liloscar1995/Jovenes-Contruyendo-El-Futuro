{
  "nbformat": 4,
  "nbformat_minor": 0,
  "metadata": {
    "colab": {
      "provenance": []
    },
    "kernelspec": {
      "name": "python3",
      "display_name": "Python 3"
    },
    "language_info": {
      "name": "python"
    }
  },
  "cells": [
    {
      "cell_type": "code",
      "execution_count": 10,
      "metadata": {
        "id": "a1qL_vMbbtHz"
      },
      "outputs": [],
      "source": [
        "from math import sqrt "
      ]
    },
    {
      "cell_type": "code",
      "source": [
        "def tabla_multiplicar(num):\n",
        "  print(\"____ Tabla del {} ____ .\".format(num))\n",
        "  for i in range(0,11):\n",
        "    print (\"{} X {} = {}\".format(i,num,i*num))\n"
      ],
      "metadata": {
        "id": "If_V1r3vcIW3"
      },
      "execution_count": 18,
      "outputs": []
    },
    {
      "cell_type": "code",
      "source": [
        "tabla_multiplicar(7)"
      ],
      "metadata": {
        "colab": {
          "base_uri": "https://localhost:8080/"
        },
        "id": "zJhMoR3RcmPz",
        "outputId": "46a90a50-3140-4df0-b257-065296aefd27"
      },
      "execution_count": 19,
      "outputs": [
        {
          "output_type": "stream",
          "name": "stdout",
          "text": [
            "____ Tabla del 7 ____ .\n",
            "0 X 7 = 0\n",
            "1 X 7 = 7\n",
            "2 X 7 = 14\n",
            "3 X 7 = 21\n",
            "4 X 7 = 28\n",
            "5 X 7 = 35\n",
            "6 X 7 = 42\n",
            "7 X 7 = 49\n",
            "8 X 7 = 56\n",
            "9 X 7 = 63\n",
            "10 X 7 = 70\n"
          ]
        }
      ]
    }
  ]
}